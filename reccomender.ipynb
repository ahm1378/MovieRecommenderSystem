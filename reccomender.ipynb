{
 "cells": [
  {
   "cell_type": "code",
   "execution_count": 108,
   "id": "7b42f767",
   "metadata": {},
   "outputs": [],
   "source": [
    "import pandas as pd\n",
    "import numpy as np\n",
    "import scipy.stats\n",
    "import seaborn as sns\n",
    "from sklearn.model_selection import train_test_split\n",
    "from sklearn.metrics.pairwise import cosine_similarity"
   ]
  },
  {
   "cell_type": "code",
   "execution_count": 106,
   "id": "c85e130c",
   "metadata": {},
   "outputs": [],
   "source": [
    "data = pd.read_csv('ml-100k/u.data',header= None , sep = '\\t',names=['user_id' , 'item_id' , 'rating' , 'timestamp'])"
   ]
  },
  {
   "cell_type": "code",
   "execution_count": 107,
   "id": "e8cf6075",
   "metadata": {},
   "outputs": [
    {
     "data": {
      "text/html": [
       "<div>\n",
       "<style scoped>\n",
       "    .dataframe tbody tr th:only-of-type {\n",
       "        vertical-align: middle;\n",
       "    }\n",
       "\n",
       "    .dataframe tbody tr th {\n",
       "        vertical-align: top;\n",
       "    }\n",
       "\n",
       "    .dataframe thead th {\n",
       "        text-align: right;\n",
       "    }\n",
       "</style>\n",
       "<table border=\"1\" class=\"dataframe\">\n",
       "  <thead>\n",
       "    <tr style=\"text-align: right;\">\n",
       "      <th></th>\n",
       "      <th>user_id</th>\n",
       "      <th>item_id</th>\n",
       "      <th>rating</th>\n",
       "      <th>timestamp</th>\n",
       "    </tr>\n",
       "  </thead>\n",
       "  <tbody>\n",
       "    <tr>\n",
       "      <th>0</th>\n",
       "      <td>196</td>\n",
       "      <td>242</td>\n",
       "      <td>3</td>\n",
       "      <td>881250949</td>\n",
       "    </tr>\n",
       "    <tr>\n",
       "      <th>1</th>\n",
       "      <td>186</td>\n",
       "      <td>302</td>\n",
       "      <td>3</td>\n",
       "      <td>891717742</td>\n",
       "    </tr>\n",
       "    <tr>\n",
       "      <th>2</th>\n",
       "      <td>22</td>\n",
       "      <td>377</td>\n",
       "      <td>1</td>\n",
       "      <td>878887116</td>\n",
       "    </tr>\n",
       "    <tr>\n",
       "      <th>3</th>\n",
       "      <td>244</td>\n",
       "      <td>51</td>\n",
       "      <td>2</td>\n",
       "      <td>880606923</td>\n",
       "    </tr>\n",
       "    <tr>\n",
       "      <th>4</th>\n",
       "      <td>166</td>\n",
       "      <td>346</td>\n",
       "      <td>1</td>\n",
       "      <td>886397596</td>\n",
       "    </tr>\n",
       "  </tbody>\n",
       "</table>\n",
       "</div>"
      ],
      "text/plain": [
       "   user_id  item_id  rating  timestamp\n",
       "0      196      242       3  881250949\n",
       "1      186      302       3  891717742\n",
       "2       22      377       1  878887116\n",
       "3      244       51       2  880606923\n",
       "4      166      346       1  886397596"
      ]
     },
     "execution_count": 107,
     "metadata": {},
     "output_type": "execute_result"
    }
   ],
   "source": [
    "data.head()"
   ]
  },
  {
   "cell_type": "code",
   "execution_count": 145,
   "id": "91b7eace",
   "metadata": {},
   "outputs": [
    {
     "data": {
      "text/html": [
       "<div>\n",
       "<style scoped>\n",
       "    .dataframe tbody tr th:only-of-type {\n",
       "        vertical-align: middle;\n",
       "    }\n",
       "\n",
       "    .dataframe tbody tr th {\n",
       "        vertical-align: top;\n",
       "    }\n",
       "\n",
       "    .dataframe thead th {\n",
       "        text-align: right;\n",
       "    }\n",
       "</style>\n",
       "<table border=\"1\" class=\"dataframe\">\n",
       "  <thead>\n",
       "    <tr style=\"text-align: right;\">\n",
       "      <th></th>\n",
       "      <th>user_id</th>\n",
       "      <th>item_id</th>\n",
       "      <th>rating</th>\n",
       "      <th>timestamp</th>\n",
       "    </tr>\n",
       "  </thead>\n",
       "  <tbody>\n",
       "    <tr>\n",
       "      <th>count</th>\n",
       "      <td>100000.00000</td>\n",
       "      <td>100000.000000</td>\n",
       "      <td>100000.000000</td>\n",
       "      <td>1.000000e+05</td>\n",
       "    </tr>\n",
       "    <tr>\n",
       "      <th>mean</th>\n",
       "      <td>462.48475</td>\n",
       "      <td>425.530130</td>\n",
       "      <td>3.529860</td>\n",
       "      <td>8.835289e+08</td>\n",
       "    </tr>\n",
       "    <tr>\n",
       "      <th>std</th>\n",
       "      <td>266.61442</td>\n",
       "      <td>330.798356</td>\n",
       "      <td>1.125674</td>\n",
       "      <td>5.343856e+06</td>\n",
       "    </tr>\n",
       "    <tr>\n",
       "      <th>min</th>\n",
       "      <td>1.00000</td>\n",
       "      <td>1.000000</td>\n",
       "      <td>1.000000</td>\n",
       "      <td>8.747247e+08</td>\n",
       "    </tr>\n",
       "    <tr>\n",
       "      <th>25%</th>\n",
       "      <td>254.00000</td>\n",
       "      <td>175.000000</td>\n",
       "      <td>3.000000</td>\n",
       "      <td>8.794487e+08</td>\n",
       "    </tr>\n",
       "    <tr>\n",
       "      <th>50%</th>\n",
       "      <td>447.00000</td>\n",
       "      <td>322.000000</td>\n",
       "      <td>4.000000</td>\n",
       "      <td>8.828269e+08</td>\n",
       "    </tr>\n",
       "    <tr>\n",
       "      <th>75%</th>\n",
       "      <td>682.00000</td>\n",
       "      <td>631.000000</td>\n",
       "      <td>4.000000</td>\n",
       "      <td>8.882600e+08</td>\n",
       "    </tr>\n",
       "    <tr>\n",
       "      <th>max</th>\n",
       "      <td>943.00000</td>\n",
       "      <td>1682.000000</td>\n",
       "      <td>5.000000</td>\n",
       "      <td>8.932866e+08</td>\n",
       "    </tr>\n",
       "  </tbody>\n",
       "</table>\n",
       "</div>"
      ],
      "text/plain": [
       "            user_id        item_id         rating     timestamp\n",
       "count  100000.00000  100000.000000  100000.000000  1.000000e+05\n",
       "mean      462.48475     425.530130       3.529860  8.835289e+08\n",
       "std       266.61442     330.798356       1.125674  5.343856e+06\n",
       "min         1.00000       1.000000       1.000000  8.747247e+08\n",
       "25%       254.00000     175.000000       3.000000  8.794487e+08\n",
       "50%       447.00000     322.000000       4.000000  8.828269e+08\n",
       "75%       682.00000     631.000000       4.000000  8.882600e+08\n",
       "max       943.00000    1682.000000       5.000000  8.932866e+08"
      ]
     },
     "execution_count": 145,
     "metadata": {},
     "output_type": "execute_result"
    }
   ],
   "source": [
    "data.describe()"
   ]
  },
  {
   "cell_type": "code",
   "execution_count": 109,
   "id": "19c41323",
   "metadata": {},
   "outputs": [],
   "source": [
    "train_data, val_data = train_test_split(data, test_size=0.2, random_state=42)"
   ]
  },
  {
   "cell_type": "code",
   "execution_count": 123,
   "id": "b4ff2dc9",
   "metadata": {},
   "outputs": [
    {
     "data": {
      "text/html": [
       "<div>\n",
       "<style scoped>\n",
       "    .dataframe tbody tr th:only-of-type {\n",
       "        vertical-align: middle;\n",
       "    }\n",
       "\n",
       "    .dataframe tbody tr th {\n",
       "        vertical-align: top;\n",
       "    }\n",
       "\n",
       "    .dataframe thead th {\n",
       "        text-align: right;\n",
       "    }\n",
       "</style>\n",
       "<table border=\"1\" class=\"dataframe\">\n",
       "  <thead>\n",
       "    <tr style=\"text-align: right;\">\n",
       "      <th></th>\n",
       "      <th>user_id</th>\n",
       "      <th>item_id</th>\n",
       "      <th>rating</th>\n",
       "      <th>timestamp</th>\n",
       "    </tr>\n",
       "  </thead>\n",
       "  <tbody>\n",
       "    <tr>\n",
       "      <th>23171</th>\n",
       "      <td>1</td>\n",
       "      <td>2</td>\n",
       "      <td>3</td>\n",
       "      <td>876893171</td>\n",
       "    </tr>\n",
       "  </tbody>\n",
       "</table>\n",
       "</div>"
      ],
      "text/plain": [
       "       user_id  item_id  rating  timestamp\n",
       "23171        1        2       3  876893171"
      ]
     },
     "execution_count": 123,
     "metadata": {},
     "output_type": "execute_result"
    }
   ],
   "source": [
    "x =train_data[train_data['user_id']==1]\n",
    "x[x['item_id']==2]"
   ]
  },
  {
   "cell_type": "code",
   "execution_count": 139,
   "id": "48f5950c",
   "metadata": {},
   "outputs": [],
   "source": [
    "num_users = data['user_id'].nunique()\n",
    "num_items = data['item_id'].nunique()\n",
    "user_item_matrix = np.zeros((num_users, num_items))"
   ]
  },
  {
   "cell_type": "code",
   "execution_count": 140,
   "id": "5fcd8d7c",
   "metadata": {},
   "outputs": [],
   "source": [
    "for row in train_data.itertuples():\n",
    "    user_item_matrix[row.user_id - 1, row.item_id - 1] = row.rating"
   ]
  },
  {
   "cell_type": "code",
   "execution_count": 141,
   "id": "f9e7de94",
   "metadata": {},
   "outputs": [
    {
     "data": {
      "text/plain": [
       "array([[0., 3., 4., ..., 0., 0., 0.],\n",
       "       [4., 0., 0., ..., 0., 0., 0.],\n",
       "       [0., 0., 0., ..., 0., 0., 0.],\n",
       "       ...,\n",
       "       [5., 0., 0., ..., 0., 0., 0.],\n",
       "       [0., 0., 0., ..., 0., 0., 0.],\n",
       "       [0., 5., 0., ..., 0., 0., 0.]])"
      ]
     },
     "execution_count": 141,
     "metadata": {},
     "output_type": "execute_result"
    }
   ],
   "source": [
    "user_item_matrix"
   ]
  },
  {
   "cell_type": "code",
   "execution_count": 142,
   "id": "7d682e98",
   "metadata": {},
   "outputs": [
    {
     "data": {
      "text/plain": [
       "array([3.6875    , 3.80434783, 2.8       , 4.5       , 2.86231884,\n",
       "       3.61309524, 3.91343284, 3.74074074, 4.06666667, 4.2       ,\n",
       "       3.5034965 , 4.43589744, 3.15098039, 4.01190476, 2.92682927,\n",
       "       4.36538462, 3.13043478, 3.87946429, 3.625     , 3.16666667,\n",
       "       2.65517241, 3.26732673, 3.6446281 , 4.32692308, 4.01538462,\n",
       "       2.97647059, 3.28571429, 3.7       , 3.56666667, 3.69444444,\n",
       "       3.73333333, 3.39393939, 3.66666667, 4.05      , 3.        ,\n",
       "       4.05882353, 3.66666667, 3.80392157, 3.88235294, 2.87878788,\n",
       "       3.83333333, 3.76666667, 3.70348837, 3.60526316, 3.58974359,\n",
       "       4.04347826, 3.61111111, 3.7755102 , 2.69822485, 3.47619048,\n",
       "       3.64705882, 4.26530612, 3.71428571, 3.69090909, 3.28571429,\n",
       "       3.70063694, 3.48809524, 3.86324786, 3.93442623, 4.07386364,\n",
       "       2.75      , 3.37288136, 3.09589041, 3.61077844, 3.88888889,\n",
       "       3.5       , 3.95      , 2.82758621, 3.83928571, 3.5047619 ,\n",
       "       3.78125   , 3.83783784, 3.8627451 , 3.64285714, 3.21875   ,\n",
       "       3.58208955, 3.69090909, 3.4       , 3.97959184, 3.68181818,\n",
       "       3.34782609, 3.03030303, 3.33613445, 3.81481481, 3.50655022,\n",
       "       3.55555556, 3.7615894 , 4.1875    , 3.96825397, 4.23140496,\n",
       "       3.87323944, 3.25471698, 3.2       , 3.640625  , 3.38495575,\n",
       "       4.325     , 4.14      , 3.64      , 3.53      , 3.11627907,\n",
       "       2.92857143, 2.63218391, 3.72727273, 2.56976744, 3.42857143,\n",
       "       3.78      , 2.83333333, 3.5       , 3.41666667, 3.08411215,\n",
       "       3.4       , 3.80645161, 3.84615385, 3.64705882, 3.86764706,\n",
       "       3.01754386, 4.04545455, 4.61016949, 3.87943262, 3.44444444,\n",
       "       3.71186441, 3.96226415, 3.79545455, 3.68421053, 3.39007092,\n",
       "       3.58974359, 4.        , 3.71223022, 2.65217391, 4.00704225,\n",
       "       4.08333333, 3.75      , 3.22727273, 3.47058824, 3.40816327,\n",
       "       4.38709677, 4.41025641, 4.33333333, 4.09090909, 3.4       ,\n",
       "       3.35714286, 3.53846154, 4.        , 3.64457831, 3.38636364,\n",
       "       3.43478261, 4.07142857, 3.96078431, 2.8       , 3.78571429,\n",
       "       3.99206349, 4.29347826, 2.8       , 3.90697674, 2.65      ,\n",
       "       3.625     , 3.86486486, 3.74468085, 3.42352941, 3.97894737,\n",
       "       2.5       , 3.57142857, 3.31578947, 4.02      , 3.92      ,\n",
       "       3.35294118, 3.3       , 3.36842105, 3.97058824, 3.80952381,\n",
       "       3.43478261, 3.2173913 , 4.15151515, 3.62773723, 3.73076923,\n",
       "       3.72      , 3.58947368, 3.65876777, 3.06451613, 3.89130435,\n",
       "       1.49295775, 3.85714286, 3.13953488, 3.60591133, 4.        ,\n",
       "       3.34782609, 4.025     , 3.8       , 3.92666667, 3.26530612,\n",
       "       3.65217391, 3.55882353, 3.27083333, 2.92307692, 3.32051282,\n",
       "       3.5862069 , 3.26470588, 3.28776978, 3.03225806, 4.02873563,\n",
       "       3.02857143, 2.6       , 3.37142857, 3.42424242, 2.83333333,\n",
       "       2.10869565, 3.20855615, 3.74074074, 2.91304348, 4.05504587,\n",
       "       3.22580645, 3.75      , 4.2371134 , 3.89814815, 3.76315789,\n",
       "       3.8125    , 2.88333333, 3.56521739, 3.73913043, 3.78947368,\n",
       "       3.60714286, 2.97704918, 2.9875    , 3.04237288, 4.52      ,\n",
       "       3.74285714, 3.5       , 3.05555556, 2.58333333, 3.82727273,\n",
       "       3.68421053, 3.95890411, 4.42307692, 3.1312336 , 3.90909091,\n",
       "       3.46534653, 4.09090909, 3.23076923, 4.27559055, 3.61111111,\n",
       "       3.38888889, 4.66666667, 3.6       , 3.62886598, 3.2       ,\n",
       "       2.96103896, 4.04545455, 3.51219512, 4.0952381 , 3.88043478,\n",
       "       3.72307692, 4.4       , 3.9625    , 3.03030303, 2.57142857,\n",
       "       3.98224852, 3.95121951, 3.7       , 3.89473684, 4.125     ,\n",
       "       4.18181818, 3.12403101, 4.04301075, 4.18      , 3.71794872,\n",
       "       3.35      , 3.93288591, 2.97761194, 2.97211155, 4.30701754,\n",
       "       3.59459459, 4.4047619 , 3.68421053, 4.14814815, 3.08333333,\n",
       "       3.48550725, 3.57777778, 4.15789474, 3.31304348, 3.56666667,\n",
       "       3.19047619, 3.47058824, 4.12195122, 3.45945946, 3.92857143,\n",
       "       3.73684211, 4.05769231, 3.875     , 2.9047619 , 3.36      ,\n",
       "       3.65929204, 4.24761905, 3.03536977, 3.47413793, 4.22727273,\n",
       "       4.20512821, 3.45751634, 4.02912621, 3.46460177, 3.72222222,\n",
       "       3.50666667, 2.42857143, 3.36828645, 3.40909091, 3.40340909,\n",
       "       3.86206897, 3.80232558, 3.75776398, 3.42857143, 4.14285714,\n",
       "       3.83116883, 4.4       , 3.57619048, 3.69791667, 3.98630137,\n",
       "       3.48333333, 3.47058824, 3.69402985, 3.52941176, 3.71666667,\n",
       "       3.73076923, 4.26190476, 3.52702703, 4.31481481, 3.42477876,\n",
       "       3.32704403, 3.31081081, 3.4375    , 3.36956522, 4.50833333,\n",
       "       3.74137931, 4.12258065, 3.72727273, 3.53531599, 3.45      ,\n",
       "       2.98148148, 3.85714286, 4.09090909, 4.01442308, 4.05714286,\n",
       "       3.8125    , 3.43529412, 4.00561798, 3.64      , 3.66486486,\n",
       "       3.22151899, 3.60126582, 3.84444444, 3.21052632, 4.30769231,\n",
       "       4.4       , 3.7       , 3.31818182, 3.72105263, 4.1       ,\n",
       "       3.70588235, 4.12068966, 3.65714286, 4.04545455, 3.95238095,\n",
       "       3.8       , 3.58823529, 3.03125   , 3.61111111, 3.34782609,\n",
       "       4.30434783, 4.1025641 , 3.33333333, 4.125     , 3.73333333,\n",
       "       4.11904762, 4.32075472, 3.71764706, 3.37272727, 3.80952381,\n",
       "       3.73076923, 4.09090909, 3.43870968, 4.        , 3.18181818,\n",
       "       3.85576923, 3.55813953, 4.42372881, 4.19047619, 3.31465517,\n",
       "       3.63157895, 3.41434263, 4.22222222, 3.70952381, 3.71428571,\n",
       "       3.7755102 , 4.09302326, 3.33802817, 3.78813559, 3.79545455,\n",
       "       3.34210526, 3.73493976, 3.72661871, 2.89922481, 3.59090909,\n",
       "       3.15254237, 3.76785714, 3.71428571, 3.33333333, 1.79238754,\n",
       "       3.51263538, 3.44919786, 3.66666667, 3.63803681, 3.13636364,\n",
       "       3.76595745, 4.02272727, 3.72972973, 3.76190476, 4.28571429,\n",
       "       3.79551122, 3.23728814, 2.72222222, 4.4       , 4.25      ,\n",
       "       3.95652174, 3.53246753, 3.60377358, 3.34210526, 2.99324324,\n",
       "       3.80769231, 4.43478261, 4.        , 3.42900302, 3.53703704,\n",
       "       3.45      , 3.66      , 3.51515152, 3.86842105, 3.30743243,\n",
       "       3.72413793, 3.54950495, 4.        , 3.86363636, 4.07317073,\n",
       "       3.57142857, 3.12844037, 3.47368421, 3.68181818, 1.97391304,\n",
       "       2.8       , 3.54385965, 3.38461538, 3.72413793, 3.86915888,\n",
       "       2.72727273, 3.43902439, 3.26829268, 2.97849462, 3.50318471,\n",
       "       3.43888889, 4.00854701, 3.69736842, 3.39393939, 3.42105263,\n",
       "       2.95      , 4.16666667, 2.90291262, 4.05      , 3.43076923,\n",
       "       3.45977011, 3.66666667, 3.95652174, 4.55882353, 3.60416667,\n",
       "       3.45833333, 4.22748815, 3.875     , 4.07968127, 3.57894737,\n",
       "       3.28125   , 4.37037037, 3.40659341, 3.37575758, 3.68085106,\n",
       "       3.975     , 3.4       , 3.04081633, 4.        , 3.08333333,\n",
       "       3.16666667, 3.62087912, 3.37168142, 3.78125   , 2.84782609,\n",
       "       3.77777778, 3.5       , 3.8627451 , 3.92105263, 3.95906433,\n",
       "       2.97029703, 3.17567568, 3.27118644, 3.83333333, 3.3442623 ,\n",
       "       3.77192982, 3.21428571, 4.14393939, 3.61835749, 3.51807229,\n",
       "       3.65196078, 4.7804878 , 3.86956522, 2.55555556, 2.76      ,\n",
       "       3.94736842, 4.23529412, 4.33333333, 3.80254777, 3.        ,\n",
       "       4.13333333, 3.14285714, 3.60714286, 4.17948718, 3.14285714,\n",
       "       3.18487395, 4.28      , 4.3253012 , 3.51882845, 3.15789474,\n",
       "       3.15      , 3.77358491, 3.70833333, 3.65625   , 3.89189189,\n",
       "       3.        , 4.11320755, 3.37980769, 4.13636364, 3.94252874,\n",
       "       3.88617886, 2.89285714, 3.6119403 , 4.14634146, 3.71698113,\n",
       "       3.62162162, 3.44036697, 3.51923077, 2.82608696, 3.54887218,\n",
       "       3.77777778, 3.63636364, 3.68032787, 3.57894737, 3.70588235,\n",
       "       3.90510949, 3.11267606, 4.17045455, 3.55208333, 4.0952381 ,\n",
       "       4.16216216, 3.70454545, 4.26666667, 3.52542373, 3.43421053,\n",
       "       3.03610108, 3.5483871 , 3.72      , 3.46428571, 4.5       ,\n",
       "       3.39837398, 3.90434783, 3.40909091, 3.44642857, 2.72222222,\n",
       "       3.42857143, 3.1875    , 3.72916667, 3.59459459, 3.2173913 ,\n",
       "       3.46428571, 3.79354839, 2.42105263, 3.49152542, 3.45945946,\n",
       "       4.        , 3.30188679, 4.41666667, 3.52941176, 3.60655738,\n",
       "       3.312     , 3.08219178, 3.78453039, 3.5       , 3.44444444,\n",
       "       3.64864865, 3.86941581, 3.55555556, 3.47619048, 3.10843373,\n",
       "       3.71428571, 3.66666667, 3.55555556, 3.88571429, 3.63380282,\n",
       "       3.10483871, 3.8       , 3.75675676, 3.36363636, 3.73417722,\n",
       "       3.94329897, 3.88888889, 3.71428571, 2.33333333, 3.72580645,\n",
       "       3.93333333, 3.2173913 , 4.30434783, 3.31034483, 3.85227273,\n",
       "       3.63636364, 2.62365591, 3.26136364, 3.53623188, 3.79569892,\n",
       "       3.60740741, 3.40625   , 3.71052632, 3.49074074, 3.42857143,\n",
       "       2.375     , 3.32608696, 4.75      , 4.02105263, 3.30337079,\n",
       "       3.17647059, 3.67326733, 3.24489796, 3.38679245, 3.25925926,\n",
       "       4.53846154, 2.56470588, 3.61818182, 2.921875  , 4.24742268,\n",
       "       4.25806452, 3.62781955, 3.77439024, 3.9375    , 4.03157895,\n",
       "       2.97058824, 3.85106383, 3.27530364, 3.72727273, 3.18623482,\n",
       "       3.64285714, 3.        , 2.67256637, 3.675     , 2.91818182,\n",
       "       2.38095238, 3.30769231, 3.78431373, 3.76712329, 2.60540541,\n",
       "       4.01052632, 3.94117647, 3.50806452, 3.70454545, 3.46017699,\n",
       "       3.68715084, 3.97435897, 3.57894737, 3.24705882, 3.87179487,\n",
       "       3.56521739, 3.28      , 3.82142857, 3.66666667, 3.71428571,\n",
       "       3.67164179, 3.51219512, 3.44      , 3.56862745, 3.93333333,\n",
       "       3.22222222, 3.17571885, 3.27868852, 3.44927536, 2.46153846,\n",
       "       4.54385965, 3.38461538, 4.94736842, 3.85714286, 3.18888889,\n",
       "       4.21428571, 3.3030303 , 3.14173228, 4.12195122, 3.25806452,\n",
       "       3.76190476, 3.67391304, 2.83157895, 3.08547009, 3.68421053,\n",
       "       4.2       , 2.125     , 3.51282051, 3.78947368, 3.66666667,\n",
       "       3.25      , 3.55026455, 3.15662651, 3.57017544, 3.70833333,\n",
       "       3.87700535, 3.77952756, 2.92307692, 3.45945946, 3.36220472,\n",
       "       3.85981308, 3.76056338, 3.71428571, 3.04081633, 3.92      ,\n",
       "       3.48175182, 3.61764706, 3.33333333, 2.109375  , 3.75      ,\n",
       "       3.15789474, 3.02298851, 3.52941176, 2.78947368, 3.09677419,\n",
       "       3.34920635, 3.52941176, 3.01219512, 3.57446809, 3.41860465,\n",
       "       3.19047619, 3.85185185, 3.77868852, 3.60606061, 3.5625    ,\n",
       "       3.3625    , 3.41666667, 3.46153846, 3.86363636, 3.        ,\n",
       "       3.45098039, 4.05829596, 3.74390244, 3.66403162, 3.06896552,\n",
       "       3.45112782, 3.23333333, 3.63043478, 3.5       , 3.1       ,\n",
       "       3.09411765, 3.35820896, 3.88848921, 4.        , 3.29032258,\n",
       "       2.92      , 3.05263158, 3.80769231, 3.61538462, 4.04761905,\n",
       "       3.36986301, 4.5       , 3.24074074, 3.        , 4.19148936,\n",
       "       3.71153846, 3.88      , 3.3852459 , 2.09039548, 3.80769231,\n",
       "       3.60493827, 3.92307692, 3.0625    , 4.07692308, 3.85106383,\n",
       "       3.86111111, 2.81382979, 3.79166667, 3.70967742, 3.61904762,\n",
       "       3.93406593, 3.12195122, 3.31553398, 3.74074074, 3.07065217,\n",
       "       3.66666667, 3.12820513, 3.55813953, 4.4       , 3.16806723,\n",
       "       3.58510638, 3.        , 3.29100529, 4.        , 3.80952381,\n",
       "       4.04545455, 3.61666667, 3.18518519, 3.61023622, 3.37864078,\n",
       "       3.69090909, 3.87058824, 4.14285714, 3.52941176, 4.45      ,\n",
       "       4.23529412, 3.47368421, 2.75      , 2.92307692, 3.77070064,\n",
       "       3.75      , 3.40740741, 3.38888889, 4.17391304, 3.13333333,\n",
       "       4.31372549, 3.        , 4.        , 2.625     , 3.58823529,\n",
       "       3.80487805, 3.16      , 2.96341463, 3.44230769, 3.66666667,\n",
       "       3.59259259, 2.78947368, 3.0776699 , 3.97619048, 4.2195122 ,\n",
       "       4.02702703, 3.        , 4.12987013, 3.22      , 4.12903226,\n",
       "       3.92592593, 3.72      , 2.76047904, 3.52238806, 3.19230769,\n",
       "       3.74919614, 3.09565217, 4.3495935 , 4.82352941, 4.6       ,\n",
       "       3.50609756, 3.525     , 2.96969697, 3.27325581, 3.26315789,\n",
       "       3.25      , 3.2       , 3.35714286, 3.92307692, 3.25396825,\n",
       "       4.03125   , 4.3880597 , 3.22580645, 3.79111111, 2.2       ,\n",
       "       2.85714286, 4.25974026, 2.95209581, 2.86363636, 3.47641509,\n",
       "       3.39325843, 3.36363636, 3.11764706, 3.8       , 4.23287671,\n",
       "       4.23529412, 3.73846154, 3.22413793, 3.76      , 3.46975089,\n",
       "       3.38461538, 3.99056604, 3.9       , 3.88571429, 3.36363636,\n",
       "       3.3715847 , 3.97777778, 4.29411765, 3.45748988, 3.82291667,\n",
       "       4.05405405, 3.98918919, 3.5       , 3.62626263, 3.93333333,\n",
       "       3.0137457 , 4.00645161, 3.4       , 3.51351351, 2.575     ,\n",
       "       3.84946237, 3.48571429, 3.94495413, 3.76470588, 3.23529412,\n",
       "       3.75757576, 4.59322034, 3.55555556, 4.32      , 3.19148936,\n",
       "       3.78571429, 3.84444444, 3.50458716, 3.31578947, 2.95      ,\n",
       "       3.37795276, 3.51612903, 3.39506173, 3.48333333, 3.13043478,\n",
       "       3.26666667, 3.39622642, 4.2       , 3.79104478, 3.22727273,\n",
       "       3.3125    , 3.69148936, 4.7037037 , 3.75609756, 2.90740741,\n",
       "       3.8       , 3.99489796, 2.62337662, 3.7080292 , 3.87096774,\n",
       "       3.78448276, 3.28571429, 3.28735632, 4.36363636, 3.42696629,\n",
       "       4.23529412, 4.26153846, 3.39416058])"
      ]
     },
     "execution_count": 142,
     "metadata": {},
     "output_type": "execute_result"
    }
   ],
   "source": [
    "row_averages = np.ma.mean(np.ma.masked_equal(user_item_matrix, 0), axis=1).data\n",
    "column_averages = np.ma.mean(np.ma.masked_equal(user_item_matrix, 0), axis=0).data            "
   ]
  },
  {
   "cell_type": "code",
   "execution_count": 148,
   "id": "b937ab2f",
   "metadata": {},
   "outputs": [
    {
     "data": {
      "text/plain": [
       "(1682,)"
      ]
     },
     "execution_count": 148,
     "metadata": {},
     "output_type": "execute_result"
    }
   ],
   "source": [
    "column_averages.shape"
   ]
  },
  {
   "cell_type": "code",
   "execution_count": 143,
   "id": "8faa62db",
   "metadata": {},
   "outputs": [],
   "source": [
    "for i in range(len(user_item_matrix)):\n",
    "    for j in range(len(user_item_matrix[i])):\n",
    "        if user_item_matrix[i][j]!=0:\n",
    "            user_item_matrix[i][j] = user_item_matrix[i][j] - row_averages[i]"
   ]
  },
  {
   "cell_type": "markdown",
   "id": "40200d0e",
   "metadata": {},
   "source": [
    "# collabrative filter based on items similarity"
   ]
  },
  {
   "cell_type": "code",
   "execution_count": 154,
   "id": "24b34db4",
   "metadata": {},
   "outputs": [
    {
     "name": "stdout",
     "output_type": "stream",
     "text": [
      "Mean Absolute Error: 0.7613221108926315\n",
      "Root Mean Squared Error: 0.9735438980351925\n"
     ]
    }
   ],
   "source": [
    "user_similarity = cosine_similarity(user_item_matrix)\n",
    "predicted_ratings = []\n",
    "actual_ratings = []\n",
    "\n",
    "for row in val_data.itertuples():\n",
    "    user_id = row.user_id - 1\n",
    "    item_id = row.item_id - 1\n",
    "    actual_rating = row.rating\n",
    "    similar_items = np.argsort(user_similarity[user_id])[-100:]\n",
    "    mean_all = 3.529860\n",
    "    predicted_rating = np.mean(user_item_matrix[user_id, similar_items]) +mean_all+column_averages[item_id]-mean_all+row_averages[user_id]-mean_all\n",
    "    predicted_ratings.append(predicted_rating)\n",
    "    actual_ratings.append(actual_rating)\n",
    "\n",
    "predicted_ratings = np.array(predicted_ratings)\n",
    "actual_ratings = np.array(actual_ratings)\n",
    "mae = mean_absolute_error(actual_ratings, predicted_ratings)\n",
    "rmse = np.sqrt(mean_squared_error(actual_ratings, predicted_ratings))\n",
    "\n",
    "print(\"Mean Absolute Error:\", mae)\n",
    "print(\"Root Mean Squared Error:\", rmse)"
   ]
  },
  {
   "cell_type": "markdown",
   "id": "c8d91d0d",
   "metadata": {},
   "source": [
    "## part 2 "
   ]
  },
  {
   "cell_type": "code",
   "execution_count": 155,
   "id": "46a39e66",
   "metadata": {},
   "outputs": [],
   "source": [
    "import pandas as pd\n",
    "import numpy as np\n",
    "from sklearn.metrics import mean_absolute_error, mean_squared_error\n",
    "from sklearn.model_selection import train_test_split\n",
    "from sklearn.metrics.pairwise import cosine_similarity\n",
    "ratings_data = pd.read_csv('ml-100k/u.data', sep='\\t', names=['user_id', 'item_id', 'rating', 'timestamp'])\n",
    "movies_data = pd.read_csv('ml-100k/u.item', sep='|', encoding='latin-1', header=None)"
   ]
  },
  {
   "cell_type": "code",
   "execution_count": 156,
   "id": "c31dde4f",
   "metadata": {},
   "outputs": [],
   "source": [
    "movies_data.columns = ['item_id', 'title', 'release_date', 'video_release_date', 'imdb_url', 'unknown',\n",
    "'Action',\n",
    "'Adventure',\n",
    "'Animation',\n",
    "'Childrens',\n",
    "'Comedy',\n",
    "'Crime',\n",
    "'Documentary',\n",
    "'Drama',\n",
    "'Fantasy',\n",
    "'Film-Noir',\n",
    "'Horror',\n",
    "'Musical',\n",
    "'Mystery',\n",
    "'Romance',\n",
    "'Sci-Fi',\n",
    "'Thriller',\n",
    "'War',\n",
    "'Western']\n",
    "merged_data = pd.merge(ratings_data, movies_data[['item_id', 'title', 'unknown',\n",
    "'Action',\n",
    "'Adventure',\n",
    "'Animation',\n",
    "'Childrens',\n",
    "'Comedy',\n",
    "'Crime',\n",
    "'Documentary',\n",
    "'Drama',\n",
    "'Fantasy',\n",
    "'Film-Noir',\n",
    "'Horror',\n",
    "'Musical',\n",
    "'Mystery',\n",
    "'Romance',\n",
    "'Sci-Fi',\n",
    "'Thriller',\n",
    "'War',\n",
    "'Western']], on='item_id')"
   ]
  },
  {
   "cell_type": "code",
   "execution_count": 165,
   "id": "4d8e7342",
   "metadata": {},
   "outputs": [],
   "source": [
    "genre_columns = movies_data.columns[5:-1]\n",
    "genres = movies_data[genre_columns]\n",
    "item_similarity = cosine_similarity(genres, genres)"
   ]
  },
  {
   "cell_type": "code",
   "execution_count": 166,
   "id": "b1acddfe",
   "metadata": {},
   "outputs": [
    {
     "data": {
      "text/plain": [
       "Index(['unknown', 'Action', 'Adventure', 'Animation', 'Childrens', 'Comedy',\n",
       "       'Crime', 'Documentary', 'Drama', 'Fantasy', 'Film-Noir', 'Horror',\n",
       "       'Musical', 'Mystery', 'Romance', 'Sci-Fi', 'Thriller', 'War'],\n",
       "      dtype='object')"
      ]
     },
     "execution_count": 166,
     "metadata": {},
     "output_type": "execute_result"
    }
   ],
   "source": []
  },
  {
   "cell_type": "code",
   "execution_count": 168,
   "id": "ce60f502",
   "metadata": {},
   "outputs": [
    {
     "name": "stdout",
     "output_type": "stream",
     "text": [
      "Mean Absolute Error: 0.7595334732505445\n",
      "Root Mean Squared Error: 0.9704709003748508\n"
     ]
    }
   ],
   "source": [
    "predicted_ratings = []\n",
    "actual_ratings = []\n",
    "for row in val_data.itertuples():\n",
    "    user_id = row.user_id - 1\n",
    "    item_id = row.item_id - 1\n",
    "    actual_rating = row.rating\n",
    "    similar_items = np.argsort(item_similarity[item_id])[-100:]\n",
    "    mean_all = 3.529860\n",
    "    predicted_rating = np.mean(user_item_matrix[user_id, similar_items]) +mean_all+column_averages[item_id]-mean_all+row_averages[user_id]-mean_all\n",
    "    predicted_ratings.append(predicted_rating)\n",
    "    actual_ratings.append(actual_rating)\n",
    "\n",
    "predicted_ratings = np.array(predicted_ratings)\n",
    "actual_ratings = np.array(actual_ratings)\n",
    "mae = mean_absolute_error(actual_ratings, predicted_ratings)\n",
    "rmse = np.sqrt(mean_squared_error(actual_ratings, predicted_ratings))\n",
    "\n",
    "print(\"Mean Absolute Error:\", mae)\n",
    "print(\"Root Mean Squared Error:\", rmse)"
   ]
  },
  {
   "cell_type": "markdown",
   "id": "8002d508",
   "metadata": {},
   "source": [
    "# part3"
   ]
  },
  {
   "cell_type": "code",
   "execution_count": 175,
   "id": "29f309a1",
   "metadata": {},
   "outputs": [
    {
     "name": "stdout",
     "output_type": "stream",
     "text": [
      "Mean Absolute Error (MAE): 0.7573446110649472\n",
      "Root Mean Squared Error (RMSE): 0.9721680151203498\n"
     ]
    }
   ],
   "source": [
    "hybrid_predictions = []\n",
    "\n",
    "for row in val_data.itertuples():\n",
    "    user_id = row.user_id - 1\n",
    "    item_id = row.item_id - 1\n",
    "    similar_users = np.argsort(user_similarity[user_id])[-100:]\n",
    "    collaborative_prediction = np.mean(user_item_matrix[similar_users, item_id])\n",
    "    similar_items = np.argsort(item_similarity[item_id])[-100:]\n",
    "    content_based_prediction = np.mean(user_item_matrix[user_id, similar_items])\n",
    "    mean_all = 3.529860\n",
    "    hybrid_prediction = 0.6 * collaborative_prediction + 0.4 * content_based_prediction+mean_all+column_averages[item_id]-mean_all+row_averages[user_id]-mean_all\n",
    "    hybrid_predictions.append(hybrid_prediction)\n",
    "actual_ratings = val_data['rating']\n",
    "hybrid_predictions = np.array(hybrid_predictions)\n",
    "mae = mean_absolute_error(actual_ratings, hybrid_predictions)\n",
    "rmse = np.sqrt(mean_squared_error(actual_ratings, hybrid_predictions))\n",
    "print(\"Mean Absolute Error (MAE):\", mae)\n",
    "print(\"Root Mean Squared Error (RMSE):\", rmse)"
   ]
  },
  {
   "cell_type": "markdown",
   "id": "a815a71f",
   "metadata": {},
   "source": [
    "# part4"
   ]
  },
  {
   "cell_type": "code",
   "execution_count": 211,
   "id": "27eefbeb",
   "metadata": {},
   "outputs": [
    {
     "name": "stdout",
     "output_type": "stream",
     "text": [
      "Mean Absolute Error (MAE): 1.288803190354534\n",
      "Root Mean Squared Error (RMSE): 1.5933181951144897\n"
     ]
    }
   ],
   "source": [
    "from sklearn.decomposition import TruncatedSVD\n",
    "svd = TruncatedSVD(n_components=20, random_state=42)\n",
    "user_factors = svd.fit_transform(user_item_matrix)\n",
    "item_factors = svd.components_.T\n",
    "item_similarity = cosine_similarity(item_factors)\n",
    "hybrid_predictions = []\n",
    "\n",
    "for row in val_data.itertuples():\n",
    "    user_id = row.user_id - 1\n",
    "    item_id = row.item_id - 1\n",
    "    similar_items = np.argsort(item_similarity[item_id])[-100:]\n",
    "    content_based_prediction = np.mean(user_item_matrix[user_id, similar_items])\n",
    "    hybrid_prediction = 0.8 * item_factors[item_id] @ user_factors[user_id] + 0.2 * content_based_prediction+mean_all+column_averages[item_id]-mean_all+row_averages[user_id]-mean_all\n",
    "    hybrid_predictions.append(hybrid_prediction)\n",
    "\n",
    "actual_ratings = val_data['rating']\n",
    "hybrid_predictions = np.array(hybrid_predictions)\n",
    "\n",
    "mae = mean_absolute_error(actual_ratings, hybrid_predictions)\n",
    "rmse = np.sqrt(mean_squared_error(actual_ratings, hybrid_predictions))\n",
    "\n",
    "print(\"Mean Absolute Error (MAE):\", mae)\n",
    "print(\"Root Mean Squared Error (RMSE):\", rmse)"
   ]
  },
  {
   "cell_type": "code",
   "execution_count": 195,
   "id": "2e67252f",
   "metadata": {},
   "outputs": [
    {
     "data": {
      "text/html": [
       "<div>\n",
       "<style scoped>\n",
       "    .dataframe tbody tr th:only-of-type {\n",
       "        vertical-align: middle;\n",
       "    }\n",
       "\n",
       "    .dataframe tbody tr th {\n",
       "        vertical-align: top;\n",
       "    }\n",
       "\n",
       "    .dataframe thead th {\n",
       "        text-align: right;\n",
       "    }\n",
       "</style>\n",
       "<table border=\"1\" class=\"dataframe\">\n",
       "  <thead>\n",
       "    <tr style=\"text-align: right;\">\n",
       "      <th></th>\n",
       "      <th>user_id</th>\n",
       "      <th>item_id</th>\n",
       "      <th>rating</th>\n",
       "      <th>timestamp</th>\n",
       "    </tr>\n",
       "  </thead>\n",
       "  <tbody>\n",
       "    <tr>\n",
       "      <th>75721</th>\n",
       "      <td>877</td>\n",
       "      <td>381</td>\n",
       "      <td>4</td>\n",
       "      <td>882677345</td>\n",
       "    </tr>\n",
       "    <tr>\n",
       "      <th>80184</th>\n",
       "      <td>815</td>\n",
       "      <td>602</td>\n",
       "      <td>3</td>\n",
       "      <td>878694269</td>\n",
       "    </tr>\n",
       "    <tr>\n",
       "      <th>19864</th>\n",
       "      <td>94</td>\n",
       "      <td>431</td>\n",
       "      <td>4</td>\n",
       "      <td>891721716</td>\n",
       "    </tr>\n",
       "    <tr>\n",
       "      <th>76699</th>\n",
       "      <td>416</td>\n",
       "      <td>875</td>\n",
       "      <td>2</td>\n",
       "      <td>876696938</td>\n",
       "    </tr>\n",
       "    <tr>\n",
       "      <th>92991</th>\n",
       "      <td>500</td>\n",
       "      <td>182</td>\n",
       "      <td>2</td>\n",
       "      <td>883873556</td>\n",
       "    </tr>\n",
       "    <tr>\n",
       "      <th>...</th>\n",
       "      <td>...</td>\n",
       "      <td>...</td>\n",
       "      <td>...</td>\n",
       "      <td>...</td>\n",
       "    </tr>\n",
       "    <tr>\n",
       "      <th>32595</th>\n",
       "      <td>72</td>\n",
       "      <td>591</td>\n",
       "      <td>5</td>\n",
       "      <td>880035708</td>\n",
       "    </tr>\n",
       "    <tr>\n",
       "      <th>29313</th>\n",
       "      <td>523</td>\n",
       "      <td>393</td>\n",
       "      <td>5</td>\n",
       "      <td>883702411</td>\n",
       "    </tr>\n",
       "    <tr>\n",
       "      <th>37862</th>\n",
       "      <td>606</td>\n",
       "      <td>287</td>\n",
       "      <td>4</td>\n",
       "      <td>880921656</td>\n",
       "    </tr>\n",
       "    <tr>\n",
       "      <th>53421</th>\n",
       "      <td>650</td>\n",
       "      <td>612</td>\n",
       "      <td>4</td>\n",
       "      <td>891369656</td>\n",
       "    </tr>\n",
       "    <tr>\n",
       "      <th>42410</th>\n",
       "      <td>303</td>\n",
       "      <td>72</td>\n",
       "      <td>3</td>\n",
       "      <td>879485111</td>\n",
       "    </tr>\n",
       "  </tbody>\n",
       "</table>\n",
       "<p>20000 rows × 4 columns</p>\n",
       "</div>"
      ],
      "text/plain": [
       "       user_id  item_id  rating  timestamp\n",
       "75721      877      381       4  882677345\n",
       "80184      815      602       3  878694269\n",
       "19864       94      431       4  891721716\n",
       "76699      416      875       2  876696938\n",
       "92991      500      182       2  883873556\n",
       "...        ...      ...     ...        ...\n",
       "32595       72      591       5  880035708\n",
       "29313      523      393       5  883702411\n",
       "37862      606      287       4  880921656\n",
       "53421      650      612       4  891369656\n",
       "42410      303       72       3  879485111\n",
       "\n",
       "[20000 rows x 4 columns]"
      ]
     },
     "execution_count": 195,
     "metadata": {},
     "output_type": "execute_result"
    }
   ],
   "source": [
    "val_data"
   ]
  },
  {
   "cell_type": "code",
   "execution_count": 218,
   "id": "ab2bef4a",
   "metadata": {},
   "outputs": [
    {
     "name": "stderr",
     "output_type": "stream",
     "text": [
      "C:\\Users\\user\\AppData\\Local\\Programs\\Python\\Python38\\lib\\site-packages\\sklearn\\cluster\\_kmeans.py:870: FutureWarning: The default value of `n_init` will change from 10 to 'auto' in 1.4. Set the value of `n_init` explicitly to suppress the warning\n",
      "  warnings.warn(\n"
     ]
    },
    {
     "name": "stdout",
     "output_type": "stream",
     "text": [
      "Mean Absolute Error (MAE): 1.1830442738216032\n",
      "Root Mean Squared Error (RMSE): 1.4657327686906139\n"
     ]
    }
   ],
   "source": [
    "from sklearn.cluster import KMeans\n",
    "user_item_svd = svd.fit_transform(user_item_matrix)\n",
    "kmeans = KMeans(n_clusters=5, random_state=42)\n",
    "cluster_labels = kmeans.fit_predict(genre_matrix)\n",
    "hybrid_predictions = []\n",
    "\n",
    "for row in val_data.itertuples():\n",
    "    user_id = row.user_id - 1\n",
    "    item_id = row.item_id - 1\n",
    "    collaborative_prediction = item_factors[item_id] @ user_factors[user_id]\n",
    "    target_cluster = cluster_labels[item_id]\n",
    "    cluster_items = np.where(cluster_labels == target_cluster)[0]\n",
    "    cluster_ratings = user_item_matrix[user_id, cluster_items]\n",
    "    cluster_average = np.mean(cluster_ratings)\n",
    "    hybrid_prediction = 0.7 * collaborative_prediction + 0.3 * cluster_average+mean_all+column_averages[item_id]-mean_all+row_averages[user_id]-mean_all\n",
    "\n",
    "    hybrid_predictions.append(hybrid_prediction)\n",
    "    top_items = np.argsort(hybrid_predictions)[-k:]  \n",
    "    true_items = user_item_matrix[user_id, :].nonzero()[0]  \n",
    "\n",
    "    num_common_items = len(set(top_items) & set(true_items))\n",
    "    precision = num_common_items / k\n",
    "    recall = num_common_items / len(true_items)\n",
    "\n",
    "    precision_sum += precision\n",
    "    recall_sum += recall\n",
    "actual_ratings = val_data['rating']\n",
    "hybrid_predictions = np.array(hybrid_predictions)\n",
    "\n",
    "mae = mean_absolute_error(actual_ratings, hybrid_predictions)\n",
    "rmse = np.sqrt(mean_squared_error(actual_ratings, hybrid_predictions))\n",
    "\n",
    "print(\"Mean Absolute Error (MAE):\", mae)\n",
    "print(\"Root Mean Squared Error (RMSE):\", rmse)"
   ]
  },
  {
   "cell_type": "code",
   "execution_count": null,
   "id": "fb62ce7a",
   "metadata": {},
   "outputs": [],
   "source": []
  }
 ],
 "metadata": {
  "kernelspec": {
   "display_name": "Python 3 (ipykernel)",
   "language": "python",
   "name": "python3"
  },
  "language_info": {
   "codemirror_mode": {
    "name": "ipython",
    "version": 3
   },
   "file_extension": ".py",
   "mimetype": "text/x-python",
   "name": "python",
   "nbconvert_exporter": "python",
   "pygments_lexer": "ipython3",
   "version": "3.8.2"
  }
 },
 "nbformat": 4,
 "nbformat_minor": 5
}
